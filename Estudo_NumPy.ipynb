{
  "nbformat": 4,
  "nbformat_minor": 0,
  "metadata": {
    "colab": {
      "provenance": [],
      "authorship_tag": "ABX9TyNiFgMSVDDaWwb8iFbo03tW",
      "include_colab_link": true
    },
    "kernelspec": {
      "name": "python3",
      "display_name": "Python 3"
    },
    "language_info": {
      "name": "python"
    }
  },
  "cells": [
    {
      "cell_type": "markdown",
      "metadata": {
        "id": "view-in-github",
        "colab_type": "text"
      },
      "source": [
        "<a href=\"https://colab.research.google.com/github/Gizasinasci86/Estudos_NumPy/blob/main/Estudo_NumPy.ipynb\" target=\"_parent\"><img src=\"https://colab.research.google.com/assets/colab-badge.svg\" alt=\"Open In Colab\"/></a>"
      ]
    },
    {
      "cell_type": "markdown",
      "source": [
        "**Importar a biblioteca NumPy**"
      ],
      "metadata": {
        "id": "JkGylSbz7wB0"
      }
    },
    {
      "cell_type": "code",
      "source": [
        "import numpy as np"
      ],
      "metadata": {
        "id": "9plrnAvu70SE"
      },
      "execution_count": 5,
      "outputs": []
    },
    {
      "cell_type": "code",
      "source": [
        "#Gerar um NDArray de 2x3 (duas listas com 3 elementos).\n",
        "\n",
        "dados=np.random.rand(2,3)"
      ],
      "metadata": {
        "id": "_XIFgdTI8Arb"
      },
      "execution_count": 4,
      "outputs": []
    },
    {
      "cell_type": "code",
      "source": [
        "#Com o comando descrito no código acima, criamos duas listas contendo três elementos (com valores aleatórios) em cada uma delas.\n",
        "\n",
        "dados"
      ],
      "metadata": {
        "colab": {
          "base_uri": "https://localhost:8080/"
        },
        "id": "20g4P3Gl89Yx",
        "outputId": "022c1153-3ccb-4e68-8748-641c87e40cd4"
      },
      "execution_count": 6,
      "outputs": [
        {
          "output_type": "execute_result",
          "data": {
            "text/plain": [
              "array([[0.12160698, 0.28313393, 0.80154276],\n",
              "       [0.05584035, 0.47899717, 0.20235558]])"
            ]
          },
          "metadata": {},
          "execution_count": 6
        }
      ]
    },
    {
      "cell_type": "code",
      "source": [
        "#Mostrar o tipo de Array que foi criado utilizando \"dtype\"\n",
        "\n",
        "dados.dtype"
      ],
      "metadata": {
        "colab": {
          "base_uri": "https://localhost:8080/"
        },
        "id": "gWZLQ2f59Kqo",
        "outputId": "18f9d661-ee7d-4b5d-a572-8232f8b21e7d"
      },
      "execution_count": 7,
      "outputs": [
        {
          "output_type": "execute_result",
          "data": {
            "text/plain": [
              "dtype('float64')"
            ]
          },
          "metadata": {},
          "execution_count": 7
        }
      ]
    },
    {
      "cell_type": "code",
      "source": [
        "#Vendo o tamanho e a quantidade de dimensões utilizando \"shape\":\n",
        "\n",
        "dados.shape"
      ],
      "metadata": {
        "colab": {
          "base_uri": "https://localhost:8080/"
        },
        "id": "FHUKxr1E9zhL",
        "outputId": "175a3ec8-9172-4059-ae49-e16ce350161b"
      },
      "execution_count": 8,
      "outputs": [
        {
          "output_type": "execute_result",
          "data": {
            "text/plain": [
              "(2, 3)"
            ]
          },
          "metadata": {},
          "execution_count": 8
        }
      ]
    },
    {
      "cell_type": "code",
      "source": [
        "#Também é possível verificar a quantidade de dimensões utilizando o \"ndim\":\n",
        "\n",
        "dados.ndim"
      ],
      "metadata": {
        "colab": {
          "base_uri": "https://localhost:8080/"
        },
        "id": "wHxSMKiC-jAb",
        "outputId": "6492530b-27b5-45fa-dda2-ba5753fd6437"
      },
      "execution_count": 9,
      "outputs": [
        {
          "output_type": "execute_result",
          "data": {
            "text/plain": [
              "2"
            ]
          },
          "metadata": {},
          "execution_count": 9
        }
      ]
    },
    {
      "cell_type": "code",
      "source": [
        "#Criando ndarray usando a função array. Ao criar o array a função array tenta utilizar o melhor tipo de dado:\n",
        "\n",
        "lista=[1,2,5,7.8,1.25]\n",
        "\n",
        "#A lista acima é uma estrutura do Python. Agora vamos criar uma ndarray, que é uma estrutura do NumPy:\n",
        "\n",
        "dados2=np.array(lista)\n",
        "\n",
        "dados2\n",
        "\n",
        "#Ao executar o código, é criado um ndarray e automaticamente ele transforma todos os elementos em tipo float porque alguns elementos deste tipo já estavam na lista."
      ],
      "metadata": {
        "colab": {
          "base_uri": "https://localhost:8080/"
        },
        "id": "tZ8oM1DH-Ub2",
        "outputId": "8cf927d2-4089-4da9-d377-51481f4baa56"
      },
      "execution_count": 10,
      "outputs": [
        {
          "output_type": "execute_result",
          "data": {
            "text/plain": [
              "array([1.  , 2.  , 5.  , 7.8 , 1.25])"
            ]
          },
          "metadata": {},
          "execution_count": 10
        }
      ]
    },
    {
      "cell_type": "code",
      "source": [
        "#Utilizando uma segunda lista e um pouco diferente que na linguagem Python, significa lista com duas dimensões:\n",
        "\n",
        "lista2=[[1,2,3,4],[4,3,2,1]]"
      ],
      "metadata": {
        "id": "B6Vv9P96CCrp"
      },
      "execution_count": 11,
      "outputs": []
    },
    {
      "cell_type": "code",
      "source": [
        "dados3=np.array(lista2)\n",
        "dados3\n",
        "\n",
        "#Foi gerado um array com duas dimensões e somente com elementos tipo int."
      ],
      "metadata": {
        "colab": {
          "base_uri": "https://localhost:8080/"
        },
        "id": "mGNSSZVLDJwx",
        "outputId": "d6a37d02-1eee-42ab-c561-757743dd8bcf"
      },
      "execution_count": 12,
      "outputs": [
        {
          "output_type": "execute_result",
          "data": {
            "text/plain": [
              "array([[1, 2, 3, 4],\n",
              "       [4, 3, 2, 1]])"
            ]
          },
          "metadata": {},
          "execution_count": 12
        }
      ]
    },
    {
      "cell_type": "code",
      "source": [
        "#Se em uma das listas tiver um elemento tipo float, o nparray gerado terá todos os elementos transformados em float:\n",
        "\n",
        "lista2_1=[[1.5,2,10,5],[6,12,15,40]]\n",
        "\n",
        "dados3_1=np.array(lista2_1)\n",
        "\n",
        "dados3_1"
      ],
      "metadata": {
        "colab": {
          "base_uri": "https://localhost:8080/"
        },
        "id": "FYE_ZcmJDR3q",
        "outputId": "6cd21da8-38a4-46f7-d42a-19428cb823f5"
      },
      "execution_count": 15,
      "outputs": [
        {
          "output_type": "execute_result",
          "data": {
            "text/plain": [
              "array([[ 1.5,  2. , 10. ,  5. ],\n",
              "       [ 6. , 12. , 15. , 40. ]])"
            ]
          },
          "metadata": {},
          "execution_count": 15
        }
      ]
    },
    {
      "cell_type": "markdown",
      "source": [
        "# **Outras maneiras de criar Array**"
      ],
      "metadata": {
        "id": "bqczCwSEFrm3"
      }
    },
    {
      "cell_type": "code",
      "source": [
        "#Criar um Array com valores específicos. Ex: criar um conjunto de dados com 10 elemesntos \"zero(0\")\"\n",
        "\n",
        "dadoszero=np.zeros(10)\n",
        "\n",
        "dadoszero\n"
      ],
      "metadata": {
        "colab": {
          "base_uri": "https://localhost:8080/"
        },
        "id": "CiWwRkKJFOEV",
        "outputId": "b9a80f46-db7b-4d71-8d21-887ef70d55fa"
      },
      "execution_count": 18,
      "outputs": [
        {
          "output_type": "execute_result",
          "data": {
            "text/plain": [
              "array([0., 0., 0., 0., 0., 0., 0., 0., 0., 0.])"
            ]
          },
          "metadata": {},
          "execution_count": 18
        }
      ]
    },
    {
      "cell_type": "code",
      "source": [
        "#Utilizando a mesma função anterior, mas agora em duas dimensões:\n",
        "\n",
        "dadoszero2=np.zeros((2,3))\n",
        "\n",
        "dadoszero2"
      ],
      "metadata": {
        "colab": {
          "base_uri": "https://localhost:8080/"
        },
        "id": "FuoiKoTXGQ6M",
        "outputId": "80c3863e-dfb3-40de-88a2-81cd8624577b"
      },
      "execution_count": 19,
      "outputs": [
        {
          "output_type": "execute_result",
          "data": {
            "text/plain": [
              "array([[0., 0., 0.],\n",
              "       [0., 0., 0.]])"
            ]
          },
          "metadata": {},
          "execution_count": 19
        }
      ]
    },
    {
      "cell_type": "code",
      "source": [
        "dadoszero2_1=np.zeros((6,6))\n",
        "\n",
        "dadoszero2_1"
      ],
      "metadata": {
        "colab": {
          "base_uri": "https://localhost:8080/"
        },
        "id": "F3uMlCjAGw8T",
        "outputId": "988c501a-7b63-4b46-a571-69f0cd092ea3"
      },
      "execution_count": 21,
      "outputs": [
        {
          "output_type": "execute_result",
          "data": {
            "text/plain": [
              "array([[0., 0., 0., 0., 0., 0.],\n",
              "       [0., 0., 0., 0., 0., 0.],\n",
              "       [0., 0., 0., 0., 0., 0.],\n",
              "       [0., 0., 0., 0., 0., 0.],\n",
              "       [0., 0., 0., 0., 0., 0.],\n",
              "       [0., 0., 0., 0., 0., 0.]])"
            ]
          },
          "metadata": {},
          "execution_count": 21
        }
      ]
    },
    {
      "cell_type": "code",
      "source": [
        "dadoszero2_2=np.zeros((20,10))\n",
        "\n",
        "dadoszero2_2\n"
      ],
      "metadata": {
        "colab": {
          "base_uri": "https://localhost:8080/"
        },
        "id": "gkLhm5Z3G-lC",
        "outputId": "e5e6219b-25b4-4c24-e708-dd92a73ad552"
      },
      "execution_count": 23,
      "outputs": [
        {
          "output_type": "execute_result",
          "data": {
            "text/plain": [
              "array([[0., 0., 0., 0., 0., 0., 0., 0., 0., 0.],\n",
              "       [0., 0., 0., 0., 0., 0., 0., 0., 0., 0.],\n",
              "       [0., 0., 0., 0., 0., 0., 0., 0., 0., 0.],\n",
              "       [0., 0., 0., 0., 0., 0., 0., 0., 0., 0.],\n",
              "       [0., 0., 0., 0., 0., 0., 0., 0., 0., 0.],\n",
              "       [0., 0., 0., 0., 0., 0., 0., 0., 0., 0.],\n",
              "       [0., 0., 0., 0., 0., 0., 0., 0., 0., 0.],\n",
              "       [0., 0., 0., 0., 0., 0., 0., 0., 0., 0.],\n",
              "       [0., 0., 0., 0., 0., 0., 0., 0., 0., 0.],\n",
              "       [0., 0., 0., 0., 0., 0., 0., 0., 0., 0.],\n",
              "       [0., 0., 0., 0., 0., 0., 0., 0., 0., 0.],\n",
              "       [0., 0., 0., 0., 0., 0., 0., 0., 0., 0.],\n",
              "       [0., 0., 0., 0., 0., 0., 0., 0., 0., 0.],\n",
              "       [0., 0., 0., 0., 0., 0., 0., 0., 0., 0.],\n",
              "       [0., 0., 0., 0., 0., 0., 0., 0., 0., 0.],\n",
              "       [0., 0., 0., 0., 0., 0., 0., 0., 0., 0.],\n",
              "       [0., 0., 0., 0., 0., 0., 0., 0., 0., 0.],\n",
              "       [0., 0., 0., 0., 0., 0., 0., 0., 0., 0.],\n",
              "       [0., 0., 0., 0., 0., 0., 0., 0., 0., 0.],\n",
              "       [0., 0., 0., 0., 0., 0., 0., 0., 0., 0.]])"
            ]
          },
          "metadata": {},
          "execution_count": 23
        }
      ]
    },
    {
      "cell_type": "code",
      "source": [
        "#Podemos também criar um array com elementos de valor \"um(1)\"?\n",
        "\n",
        "dadosum=np.ones(5)\n",
        "\n",
        "dadosum\n"
      ],
      "metadata": {
        "colab": {
          "base_uri": "https://localhost:8080/"
        },
        "id": "-8_DSoInHT_N",
        "outputId": "4edb0728-0e7f-4483-b5d9-746feb033fcc"
      },
      "execution_count": 24,
      "outputs": [
        {
          "output_type": "execute_result",
          "data": {
            "text/plain": [
              "array([1., 1., 1., 1., 1.])"
            ]
          },
          "metadata": {},
          "execution_count": 24
        }
      ]
    },
    {
      "cell_type": "code",
      "source": [
        "#Criando dados sequenciais:\n",
        "\n",
        "dadosseq=np.arange(10)\n",
        "\n",
        "dadosseq"
      ],
      "metadata": {
        "colab": {
          "base_uri": "https://localhost:8080/"
        },
        "id": "dLWeWQxqH-I-",
        "outputId": "f8ebedfc-4755-4c47-accd-86ee6aa60661"
      },
      "execution_count": 25,
      "outputs": [
        {
          "output_type": "execute_result",
          "data": {
            "text/plain": [
              "array([0, 1, 2, 3, 4, 5, 6, 7, 8, 9])"
            ]
          },
          "metadata": {},
          "execution_count": 25
        }
      ]
    },
    {
      "cell_type": "code",
      "source": [
        "#Dados sequenciais com array de sequência de 0 a 20, de 2 em 2 :\n",
        "\n",
        "dadosseq2=np.arange(0,20,2)\n",
        "\n",
        "dadosseq2"
      ],
      "metadata": {
        "colab": {
          "base_uri": "https://localhost:8080/"
        },
        "id": "mWx3hNiwIVaB",
        "outputId": "5980eb70-d1d4-4ff2-fa3d-204d75836be7"
      },
      "execution_count": 27,
      "outputs": [
        {
          "output_type": "execute_result",
          "data": {
            "text/plain": [
              "array([ 0,  2,  4,  6,  8, 10, 12, 14, 16, 18])"
            ]
          },
          "metadata": {},
          "execution_count": 27
        }
      ]
    },
    {
      "cell_type": "code",
      "source": [
        "dadosseq2.dtype"
      ],
      "metadata": {
        "colab": {
          "base_uri": "https://localhost:8080/"
        },
        "id": "ahXCerkTI1HV",
        "outputId": "3a8c7f1b-7614-483c-aa1c-1007eebb5452"
      },
      "execution_count": 28,
      "outputs": [
        {
          "output_type": "execute_result",
          "data": {
            "text/plain": [
              "dtype('int64')"
            ]
          },
          "metadata": {},
          "execution_count": 28
        }
      ]
    },
    {
      "cell_type": "code",
      "source": [
        "#Podemos transformar/converter os tipos dos elementos. Ex: int em float.\n",
        "\n",
        "dadosseqf=dadosseq.astype(np.float64)\n",
        "\n",
        "dadosseqf"
      ],
      "metadata": {
        "colab": {
          "base_uri": "https://localhost:8080/"
        },
        "id": "EM5TrFdvJjOM",
        "outputId": "bfd606a2-ecd2-4be3-a3ad-debef37829bc"
      },
      "execution_count": 29,
      "outputs": [
        {
          "output_type": "execute_result",
          "data": {
            "text/plain": [
              "array([0., 1., 2., 3., 4., 5., 6., 7., 8., 9.])"
            ]
          },
          "metadata": {},
          "execution_count": 29
        }
      ]
    },
    {
      "cell_type": "code",
      "source": [
        "dadosseqf.dtype"
      ],
      "metadata": {
        "colab": {
          "base_uri": "https://localhost:8080/"
        },
        "id": "81V_P-hqKRtP",
        "outputId": "be3a522e-d9e8-453d-b2c0-0eacc7067bf5"
      },
      "execution_count": 30,
      "outputs": [
        {
          "output_type": "execute_result",
          "data": {
            "text/plain": [
              "dtype('float64')"
            ]
          },
          "metadata": {},
          "execution_count": 30
        }
      ]
    },
    {
      "cell_type": "markdown",
      "source": [
        "**A função \"astype\" é bastante utilizada na hora de tratar os dados. Sempre haverá a necessidade de realizar essas transformações.**"
      ],
      "metadata": {
        "id": "6BUlYh0fKg6r"
      }
    },
    {
      "cell_type": "code",
      "source": [],
      "metadata": {
        "id": "6oV8ScCvKcsK"
      },
      "execution_count": null,
      "outputs": []
    },
    {
      "cell_type": "markdown",
      "source": [
        "# **Aritmética com Arrays**"
      ],
      "metadata": {
        "id": "9_mUflc1LDHZ"
      }
    },
    {
      "cell_type": "code",
      "source": [
        "dados4=np.array([[1,2,3],[4,5,6]])\n",
        "\n",
        "dados4"
      ],
      "metadata": {
        "colab": {
          "base_uri": "https://localhost:8080/"
        },
        "id": "l3eK1WkWLLlp",
        "outputId": "72d51f20-dbe2-42cd-f8fe-d0312aa992d3"
      },
      "execution_count": 32,
      "outputs": [
        {
          "output_type": "execute_result",
          "data": {
            "text/plain": [
              "array([[1, 2, 3],\n",
              "       [4, 5, 6]])"
            ]
          },
          "metadata": {},
          "execution_count": 32
        }
      ]
    },
    {
      "cell_type": "code",
      "source": [
        "#Realizando uma multiplicação entre os elementos dos dados4:\n",
        "\n",
        "dados4*dados4"
      ],
      "metadata": {
        "colab": {
          "base_uri": "https://localhost:8080/"
        },
        "id": "v14B9YJsLZ9p",
        "outputId": "a618c300-bc64-41b1-ce89-6b69102c1e28"
      },
      "execution_count": 33,
      "outputs": [
        {
          "output_type": "execute_result",
          "data": {
            "text/plain": [
              "array([[ 1,  4,  9],\n",
              "       [16, 25, 36]])"
            ]
          },
          "metadata": {},
          "execution_count": 33
        }
      ]
    },
    {
      "cell_type": "code",
      "source": [
        "#Realizando uma soma entre os elementos dos dados4:\n",
        "\n",
        "dados4+dados4"
      ],
      "metadata": {
        "colab": {
          "base_uri": "https://localhost:8080/"
        },
        "id": "sTzQVohmMJXq",
        "outputId": "db04a455-e877-49be-f266-a154bee56aad"
      },
      "execution_count": 34,
      "outputs": [
        {
          "output_type": "execute_result",
          "data": {
            "text/plain": [
              "array([[ 2,  4,  6],\n",
              "       [ 8, 10, 12]])"
            ]
          },
          "metadata": {},
          "execution_count": 34
        }
      ]
    },
    {
      "cell_type": "code",
      "source": [
        "#Realizando uma subtração entre os elementos dos dados4:\n",
        "\n",
        "dados4-dados4"
      ],
      "metadata": {
        "colab": {
          "base_uri": "https://localhost:8080/"
        },
        "id": "Io3m63e4Mt_s",
        "outputId": "8f18666a-b8c8-4338-a7a5-1517863b787e"
      },
      "execution_count": 36,
      "outputs": [
        {
          "output_type": "execute_result",
          "data": {
            "text/plain": [
              "array([[0, 0, 0],\n",
              "       [0, 0, 0]])"
            ]
          },
          "metadata": {},
          "execution_count": 36
        }
      ]
    },
    {
      "cell_type": "code",
      "source": [
        "#Realizando uma divisão entre os elementos dos dados4:\n",
        "\n",
        "dados4/dados4"
      ],
      "metadata": {
        "colab": {
          "base_uri": "https://localhost:8080/"
        },
        "id": "9mltGAy9M8WI",
        "outputId": "7c1b8314-133d-49b0-9e29-f2188396b0ae"
      },
      "execution_count": 37,
      "outputs": [
        {
          "output_type": "execute_result",
          "data": {
            "text/plain": [
              "array([[1., 1., 1.],\n",
              "       [1., 1., 1.]])"
            ]
          },
          "metadata": {},
          "execution_count": 37
        }
      ]
    },
    {
      "cell_type": "code",
      "source": [
        "#Podemos realizar as operações aritméticas dos elementos dos dados com outros números:\n",
        "\n",
        "1/dados4"
      ],
      "metadata": {
        "colab": {
          "base_uri": "https://localhost:8080/"
        },
        "id": "CRlK2X-cNEbH",
        "outputId": "17fbc43e-8f9a-4420-b8b9-dd512b1237c9"
      },
      "execution_count": 39,
      "outputs": [
        {
          "output_type": "execute_result",
          "data": {
            "text/plain": [
              "array([[1.        , 0.5       , 0.33333333],\n",
              "       [0.25      , 0.2       , 0.16666667]])"
            ]
          },
          "metadata": {},
          "execution_count": 39
        }
      ]
    },
    {
      "cell_type": "code",
      "source": [
        "#Podemos gerar um novo Array utilizando o resultado da operação aritmética:\n",
        "\n",
        "dados5=dados4+dados4\n",
        "\n",
        "dados5"
      ],
      "metadata": {
        "colab": {
          "base_uri": "https://localhost:8080/"
        },
        "id": "QnQx8T2YNLGf",
        "outputId": "bfc29484-0090-4289-b3cf-ad6128d30e60"
      },
      "execution_count": 50,
      "outputs": [
        {
          "output_type": "execute_result",
          "data": {
            "text/plain": [
              "array([[ 2,  4,  6],\n",
              "       [ 8, 10, 12]])"
            ]
          },
          "metadata": {},
          "execution_count": 50
        }
      ]
    },
    {
      "cell_type": "code",
      "source": [
        "#Os dados4 permanece sendo o mesmo pois os dados5 foi criado como sendo outro conjunto de dados:\n",
        "\n",
        "dados4"
      ],
      "metadata": {
        "colab": {
          "base_uri": "https://localhost:8080/"
        },
        "id": "c8RwsghqOeES",
        "outputId": "1fd83382-b996-477c-942a-ff53a9424654"
      },
      "execution_count": 51,
      "outputs": [
        {
          "output_type": "execute_result",
          "data": {
            "text/plain": [
              "array([[1, 2, 3],\n",
              "       [4, 5, 6]])"
            ]
          },
          "metadata": {},
          "execution_count": 51
        }
      ]
    },
    {
      "cell_type": "code",
      "source": [
        "#Podemos realizar comparações entre os conjuntos de dados:\n",
        "\n",
        "dados5>dados4"
      ],
      "metadata": {
        "colab": {
          "base_uri": "https://localhost:8080/"
        },
        "id": "kJSRGvohOnil",
        "outputId": "ab484ef6-44a3-460f-c33f-05bdc5ee6174"
      },
      "execution_count": 52,
      "outputs": [
        {
          "output_type": "execute_result",
          "data": {
            "text/plain": [
              "array([[ True,  True,  True],\n",
              "       [ True,  True,  True]])"
            ]
          },
          "metadata": {},
          "execution_count": 52
        }
      ]
    },
    {
      "cell_type": "code",
      "source": [
        "dados5<dados4"
      ],
      "metadata": {
        "colab": {
          "base_uri": "https://localhost:8080/"
        },
        "id": "hbUCbDhuPJQd",
        "outputId": "2aaf7011-56e9-4170-be8c-db950bfaf027"
      },
      "execution_count": 53,
      "outputs": [
        {
          "output_type": "execute_result",
          "data": {
            "text/plain": [
              "array([[False, False, False],\n",
              "       [False, False, False]])"
            ]
          },
          "metadata": {},
          "execution_count": 53
        }
      ]
    },
    {
      "cell_type": "markdown",
      "source": [
        "# **Indexação**"
      ],
      "metadata": {
        "id": "lIsBvkBPPs2x"
      }
    },
    {
      "cell_type": "code",
      "source": [
        "dadosseq"
      ],
      "metadata": {
        "colab": {
          "base_uri": "https://localhost:8080/"
        },
        "id": "8cP9VyCAPS95",
        "outputId": "506f82a8-2a91-4f98-f136-a17d0374a339"
      },
      "execution_count": 54,
      "outputs": [
        {
          "output_type": "execute_result",
          "data": {
            "text/plain": [
              "array([0, 1, 2, 3, 4, 5, 6, 7, 8, 9])"
            ]
          },
          "metadata": {},
          "execution_count": 54
        }
      ]
    },
    {
      "cell_type": "code",
      "source": [
        "dadosseq[5]"
      ],
      "metadata": {
        "colab": {
          "base_uri": "https://localhost:8080/"
        },
        "id": "sG-6ZjvCP5lT",
        "outputId": "5453b3c3-23cf-4697-f504-cd11ece2f9cd"
      },
      "execution_count": 55,
      "outputs": [
        {
          "output_type": "execute_result",
          "data": {
            "text/plain": [
              "5"
            ]
          },
          "metadata": {},
          "execution_count": 55
        }
      ]
    },
    {
      "cell_type": "markdown",
      "source": [
        "Obs.: Diferente da lista em Python, um recorte (uma fatia de dado) de um ndarray, sofrerá um **broadcast**, é como se fosse um **view** de banco de dados. Ou seja, conforme mudamos os dados dessa fatia, os dados originais também serão alterados."
      ],
      "metadata": {
        "id": "C4jIj4m6QF0u"
      }
    },
    {
      "cell_type": "code",
      "source": [
        "#Escolhendo uma sequência dentro da sequência original. No exemplo a seguir, o elemento que estiver na 6ª posição, não fará parte da sequência desejada. O número 6 significa que a escolha pára na 6ª posição, mas o elemento que está nesta posição, não será incluído na resposta final da sequência escolhida.\n",
        "\n",
        "dadosseq[3:6]"
      ],
      "metadata": {
        "colab": {
          "base_uri": "https://localhost:8080/"
        },
        "id": "t4lYtBZ4P94B",
        "outputId": "c347428f-9198-483d-9da1-8208672362f2"
      },
      "execution_count": 56,
      "outputs": [
        {
          "output_type": "execute_result",
          "data": {
            "text/plain": [
              "array([3, 4, 5])"
            ]
          },
          "metadata": {},
          "execution_count": 56
        }
      ]
    },
    {
      "cell_type": "code",
      "source": [
        "#Podemos acrescentar elementos em uma sequência específica. Ex:\n",
        "\n",
        "dadosseq[3:6]=20\n",
        "\n",
        "dadosseq"
      ],
      "metadata": {
        "colab": {
          "base_uri": "https://localhost:8080/"
        },
        "id": "COecIguzRvDe",
        "outputId": "75f66935-7f41-459a-aeca-37279ece9d07"
      },
      "execution_count": 58,
      "outputs": [
        {
          "output_type": "execute_result",
          "data": {
            "text/plain": [
              "array([ 0,  1,  2, 20, 20, 20,  6,  7,  8,  9])"
            ]
          },
          "metadata": {},
          "execution_count": 58
        }
      ]
    },
    {
      "cell_type": "code",
      "source": [
        "#Podemos criar uma fatia de dados (aqui foram selecionados os elementos que estão nas posições 2 e 3):\n",
        "\n",
        "fatiadados=dadosseq[2:4]\n",
        "\n",
        "fatiadados"
      ],
      "metadata": {
        "colab": {
          "base_uri": "https://localhost:8080/"
        },
        "id": "GkkEd4kyR9f1",
        "outputId": "74eed08b-38b5-4ece-ac18-4c5cc7dc7413"
      },
      "execution_count": 59,
      "outputs": [
        {
          "output_type": "execute_result",
          "data": {
            "text/plain": [
              "array([ 2, 20])"
            ]
          },
          "metadata": {},
          "execution_count": 59
        }
      ]
    },
    {
      "cell_type": "code",
      "source": [
        "#Podemos acrescentar um valor na fatia do dados (lembrando que será acrescentado na sequência original de onde retiramos essa fatia):\n",
        "\n",
        "fatiadados[1]=2000\n",
        "\n",
        "fatiadados"
      ],
      "metadata": {
        "colab": {
          "base_uri": "https://localhost:8080/"
        },
        "id": "LAOp3uLsSXcf",
        "outputId": "95320198-923c-4916-965a-a826ae878e91"
      },
      "execution_count": 60,
      "outputs": [
        {
          "output_type": "execute_result",
          "data": {
            "text/plain": [
              "array([   2, 2000])"
            ]
          },
          "metadata": {},
          "execution_count": 60
        }
      ]
    },
    {
      "cell_type": "code",
      "source": [
        "#Comprovando o broadcast, o valor 2000 acrescentado na fatiadados, também foi incluído na dadosseq original:\n",
        "\n",
        "dadosseq"
      ],
      "metadata": {
        "colab": {
          "base_uri": "https://localhost:8080/"
        },
        "id": "o2qdyF60TGRY",
        "outputId": "f4e78786-a570-455a-d32e-5a88c77ac253"
      },
      "execution_count": 61,
      "outputs": [
        {
          "output_type": "execute_result",
          "data": {
            "text/plain": [
              "array([   0,    1,    2, 2000,   20,   20,    6,    7,    8,    9])"
            ]
          },
          "metadata": {},
          "execution_count": 61
        }
      ]
    },
    {
      "cell_type": "code",
      "source": [
        "#Podemos pegar a fatiadados e atribuir um elemento em todas as posições:\n",
        "\n",
        "fatiadados[:]=333\n",
        "\n",
        "#Visualizando na dadosseq (sequência original), o valor \"333\" aparecerá nas posições selecionadas:\n",
        "\n",
        "dadosseq"
      ],
      "metadata": {
        "colab": {
          "base_uri": "https://localhost:8080/"
        },
        "id": "ybuHzZbuTRwu",
        "outputId": "1e6bb972-d041-485c-851e-58fbd7a0e93c"
      },
      "execution_count": 62,
      "outputs": [
        {
          "output_type": "execute_result",
          "data": {
            "text/plain": [
              "array([  0,   1, 333, 333,  20,  20,   6,   7,   8,   9])"
            ]
          },
          "metadata": {},
          "execution_count": 62
        }
      ]
    },
    {
      "cell_type": "markdown",
      "source": [
        "#**Copiar dados**"
      ],
      "metadata": {
        "id": "tJuBuwF_UckF"
      }
    },
    {
      "cell_type": "code",
      "source": [
        "fatia2=dadosseq[2:4].copy()\n",
        "\n",
        "fatia2"
      ],
      "metadata": {
        "colab": {
          "base_uri": "https://localhost:8080/"
        },
        "id": "xycwKVhGUL18",
        "outputId": "5956dc65-32ec-473e-e794-0f6c48e3494c"
      },
      "execution_count": 63,
      "outputs": [
        {
          "output_type": "execute_result",
          "data": {
            "text/plain": [
              "array([333, 333])"
            ]
          },
          "metadata": {},
          "execution_count": 63
        }
      ]
    },
    {
      "cell_type": "code",
      "source": [
        "#Posso alterar os valores desses elementos na cópia:\n",
        "\n",
        "fatia2[:]=111\n",
        "fatia2"
      ],
      "metadata": {
        "colab": {
          "base_uri": "https://localhost:8080/"
        },
        "id": "vqPoM0vdU8hQ",
        "outputId": "b043ec79-6478-4f47-a02c-4a469b91c70b"
      },
      "execution_count": 65,
      "outputs": [
        {
          "output_type": "execute_result",
          "data": {
            "text/plain": [
              "array([111, 111])"
            ]
          },
          "metadata": {},
          "execution_count": 65
        }
      ]
    },
    {
      "cell_type": "code",
      "source": [
        "#Porém, agora, os alementos no dadosseq não serão alterados, porque estamos trabalhando em uma cópia e não mexendo direto no conjunto de dados original.\n",
        "\n",
        "dadosseq"
      ],
      "metadata": {
        "colab": {
          "base_uri": "https://localhost:8080/"
        },
        "id": "VY419ywfVKT-",
        "outputId": "88d00b9c-fc44-406b-9f39-416b26b8db55"
      },
      "execution_count": 66,
      "outputs": [
        {
          "output_type": "execute_result",
          "data": {
            "text/plain": [
              "array([  0,   1, 333, 333,  20,  20,   6,   7,   8,   9])"
            ]
          },
          "metadata": {},
          "execution_count": 66
        }
      ]
    },
    {
      "cell_type": "markdown",
      "source": [
        "#**Array com mais de uma dimensão**\n",
        "\n",
        "A ideia é a mesma em relação ao array de uma dimensão."
      ],
      "metadata": {
        "id": "tbkbZEJPVz7m"
      }
    },
    {
      "cell_type": "code",
      "source": [
        "dados6=np.array([[1,2,3],[4,5,6],[7,8,9]])\n",
        "\n",
        "dados6"
      ],
      "metadata": {
        "colab": {
          "base_uri": "https://localhost:8080/"
        },
        "id": "po7Rboj8WFRz",
        "outputId": "f8155c3a-d0e5-4aab-bee7-db533e9fe758"
      },
      "execution_count": 67,
      "outputs": [
        {
          "output_type": "execute_result",
          "data": {
            "text/plain": [
              "array([[1, 2, 3],\n",
              "       [4, 5, 6],\n",
              "       [7, 8, 9]])"
            ]
          },
          "metadata": {},
          "execution_count": 67
        }
      ]
    },
    {
      "cell_type": "code",
      "source": [
        "#A identificação da posição do elemento é igual às Matrizes, em Matemática (linha, coluna). Apenas não pode esquecer que a contagem começa na posição \"zero\", tanto para a identificação na linha quanto na coluna:\n",
        "\n",
        "dados6[1,2]\n",
        "\n",
        "#Neste exemplo, estamos identificando o elemento que está na segunda linha e na terceira coluna."
      ],
      "metadata": {
        "colab": {
          "base_uri": "https://localhost:8080/"
        },
        "id": "ayedLiciWaoR",
        "outputId": "b41a4d5a-602b-4790-96ae-f1899766bdee"
      },
      "execution_count": 68,
      "outputs": [
        {
          "output_type": "execute_result",
          "data": {
            "text/plain": [
              "6"
            ]
          },
          "metadata": {},
          "execution_count": 68
        }
      ]
    },
    {
      "cell_type": "markdown",
      "source": [
        "#**Máscaras**"
      ],
      "metadata": {
        "id": "M5_5sPwgXaIs"
      }
    },
    {
      "cell_type": "code",
      "source": [
        "dadosseq"
      ],
      "metadata": {
        "colab": {
          "base_uri": "https://localhost:8080/"
        },
        "id": "CcvRQ9N7Wkan",
        "outputId": "205a048f-7b0c-48a3-8220-7244110e7785"
      },
      "execution_count": 70,
      "outputs": [
        {
          "output_type": "execute_result",
          "data": {
            "text/plain": [
              "array([  0,   1, 333, 333,  20,  20,   6,   7,   8,   9])"
            ]
          },
          "metadata": {},
          "execution_count": 70
        }
      ]
    },
    {
      "cell_type": "code",
      "source": [
        "mascara=(dadosseq<100)\n",
        "mascara"
      ],
      "metadata": {
        "colab": {
          "base_uri": "https://localhost:8080/"
        },
        "id": "m7Svrl5sXtpe",
        "outputId": "b4bb0bcd-667c-4bf6-e349-287c60e210c3"
      },
      "execution_count": 71,
      "outputs": [
        {
          "output_type": "execute_result",
          "data": {
            "text/plain": [
              "array([ True,  True, False, False,  True,  True,  True,  True,  True,\n",
              "        True])"
            ]
          },
          "metadata": {},
          "execution_count": 71
        }
      ]
    },
    {
      "cell_type": "code",
      "source": [
        "#Podemos fazer uma comparação e ainda substituir tais elementos por outros valores:\n",
        "\n",
        "dadosseq[dadosseq<20]=8888\n",
        "dadosseq"
      ],
      "metadata": {
        "colab": {
          "base_uri": "https://localhost:8080/"
        },
        "id": "7Rwqit_nX0jE",
        "outputId": "0bb1950b-bc21-42a5-c605-70438034fe44"
      },
      "execution_count": 72,
      "outputs": [
        {
          "output_type": "execute_result",
          "data": {
            "text/plain": [
              "array([8888, 8888,  333,  333,   20,   20, 8888, 8888, 8888, 8888])"
            ]
          },
          "metadata": {},
          "execution_count": 72
        }
      ]
    },
    {
      "cell_type": "markdown",
      "source": [
        "#**Transposição**"
      ],
      "metadata": {
        "id": "nj2z7RuuYf70"
      }
    },
    {
      "cell_type": "code",
      "source": [
        "dados7=np.arange(15).reshape((3,5))\n",
        "dados7"
      ],
      "metadata": {
        "colab": {
          "base_uri": "https://localhost:8080/"
        },
        "id": "RWl-S0feYaG_",
        "outputId": "d6493db4-1a82-4216-b646-f0e7bde3d8ed"
      },
      "execution_count": 73,
      "outputs": [
        {
          "output_type": "execute_result",
          "data": {
            "text/plain": [
              "array([[ 0,  1,  2,  3,  4],\n",
              "       [ 5,  6,  7,  8,  9],\n",
              "       [10, 11, 12, 13, 14]])"
            ]
          },
          "metadata": {},
          "execution_count": 73
        }
      ]
    },
    {
      "cell_type": "code",
      "source": [
        "#Transposição: o que era linha vira coluna e vice-versa.\n",
        "\n",
        "dados7.T"
      ],
      "metadata": {
        "colab": {
          "base_uri": "https://localhost:8080/"
        },
        "id": "4IPLpjIMY4zz",
        "outputId": "01aaa5b5-f1cf-4f54-be5a-7e2474645da2"
      },
      "execution_count": 74,
      "outputs": [
        {
          "output_type": "execute_result",
          "data": {
            "text/plain": [
              "array([[ 0,  5, 10],\n",
              "       [ 1,  6, 11],\n",
              "       [ 2,  7, 12],\n",
              "       [ 3,  8, 13],\n",
              "       [ 4,  9, 14]])"
            ]
          },
          "metadata": {},
          "execution_count": 74
        }
      ]
    },
    {
      "cell_type": "markdown",
      "source": [
        "#**Multiplicação de Matrizes com Dots**"
      ],
      "metadata": {
        "id": "JzWNg0jeZK3O"
      }
    },
    {
      "cell_type": "code",
      "source": [
        "np.dot(dados7.T,dados7)"
      ],
      "metadata": {
        "colab": {
          "base_uri": "https://localhost:8080/"
        },
        "id": "yNiK4tYAY9SW",
        "outputId": "b54f7f25-e1ea-499d-a3c3-ef8696e9224c"
      },
      "execution_count": 75,
      "outputs": [
        {
          "output_type": "execute_result",
          "data": {
            "text/plain": [
              "array([[125, 140, 155, 170, 185],\n",
              "       [140, 158, 176, 194, 212],\n",
              "       [155, 176, 197, 218, 239],\n",
              "       [170, 194, 218, 242, 266],\n",
              "       [185, 212, 239, 266, 293]])"
            ]
          },
          "metadata": {},
          "execution_count": 75
        }
      ]
    },
    {
      "cell_type": "markdown",
      "source": [
        "Importante observar que na função transposição não há mudança de valores, apenas a mudança na localização das posições em relação às linhas e colunas de uma Matriz.\n",
        "\n",
        "Existem muitas outras funções para serem exploradas, como: **sin, cos, power, mod, sqrt, entre outros.**"
      ],
      "metadata": {
        "id": "_HEZQHtXZeY5"
      }
    }
  ]
}